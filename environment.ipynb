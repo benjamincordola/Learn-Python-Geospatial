{
 "cells": [
  {
   "cell_type": "code",
   "execution_count": 1,
   "id": "0609fd27-bbb6-4c4e-9fec-9f67d18d3926",
   "metadata": {
    "tags": []
   },
   "outputs": [
    {
     "name": "stdout",
     "output_type": "stream",
     "text": [
      "Requirement already satisfied: pandas in /Users/bcordola20/anaconda3/lib/python3.11/site-packages (from -r requirements.txt (line 1)) (2.0.3)\n",
      "Requirement already satisfied: geopandas in /Users/bcordola20/anaconda3/lib/python3.11/site-packages (from -r requirements.txt (line 2)) (0.14.0)\n",
      "Requirement already satisfied: numpy in /Users/bcordola20/anaconda3/lib/python3.11/site-packages (from -r requirements.txt (line 3)) (1.24.3)\n",
      "Requirement already satisfied: libpysal in /Users/bcordola20/anaconda3/lib/python3.11/site-packages (from -r requirements.txt (line 4)) (4.8.0)\n",
      "Requirement already satisfied: folium in /Users/bcordola20/anaconda3/lib/python3.11/site-packages (from -r requirements.txt (line 5)) (0.14.0)\n",
      "Requirement already satisfied: matplotlib in /Users/bcordola20/anaconda3/lib/python3.11/site-packages (from -r requirements.txt (line 6)) (3.7.2)\n",
      "Requirement already satisfied: mapclassify in /Users/bcordola20/anaconda3/lib/python3.11/site-packages (from -r requirements.txt (line 7)) (2.6.1)\n",
      "Requirement already satisfied: geodatasets in /Users/bcordola20/anaconda3/lib/python3.11/site-packages (from -r requirements.txt (line 8)) (2023.3.0)\n",
      "Requirement already satisfied: geoplot in /Users/bcordola20/anaconda3/lib/python3.11/site-packages (from -r requirements.txt (line 9)) (0.5.1)\n",
      "Requirement already satisfied: python-dateutil>=2.8.2 in /Users/bcordola20/anaconda3/lib/python3.11/site-packages (from pandas->-r requirements.txt (line 1)) (2.8.2)\n",
      "Requirement already satisfied: pytz>=2020.1 in /Users/bcordola20/anaconda3/lib/python3.11/site-packages (from pandas->-r requirements.txt (line 1)) (2023.3.post1)\n",
      "Requirement already satisfied: tzdata>=2022.1 in /Users/bcordola20/anaconda3/lib/python3.11/site-packages (from pandas->-r requirements.txt (line 1)) (2023.3)\n",
      "Requirement already satisfied: fiona>=1.8.21 in /Users/bcordola20/anaconda3/lib/python3.11/site-packages (from geopandas->-r requirements.txt (line 2)) (1.9.5)\n",
      "Requirement already satisfied: packaging in /Users/bcordola20/anaconda3/lib/python3.11/site-packages (from geopandas->-r requirements.txt (line 2)) (23.1)\n",
      "Requirement already satisfied: pyproj>=3.3.0 in /Users/bcordola20/anaconda3/lib/python3.11/site-packages (from geopandas->-r requirements.txt (line 2)) (3.6.1)\n",
      "Requirement already satisfied: shapely>=1.8.0 in /Users/bcordola20/anaconda3/lib/python3.11/site-packages (from geopandas->-r requirements.txt (line 2)) (2.0.2)\n",
      "Requirement already satisfied: platformdirs>=2.0.2 in /Users/bcordola20/anaconda3/lib/python3.11/site-packages (from libpysal->-r requirements.txt (line 4)) (3.10.0)\n",
      "Requirement already satisfied: beautifulsoup4>=4.10 in /Users/bcordola20/anaconda3/lib/python3.11/site-packages (from libpysal->-r requirements.txt (line 4)) (4.12.2)\n",
      "Requirement already satisfied: requests in /Users/bcordola20/anaconda3/lib/python3.11/site-packages (from libpysal->-r requirements.txt (line 4)) (2.31.0)\n",
      "Requirement already satisfied: scipy>=1.8 in /Users/bcordola20/anaconda3/lib/python3.11/site-packages (from libpysal->-r requirements.txt (line 4)) (1.11.1)\n",
      "Requirement already satisfied: branca>=0.6.0 in /Users/bcordola20/anaconda3/lib/python3.11/site-packages (from folium->-r requirements.txt (line 5)) (0.6.0)\n",
      "Requirement already satisfied: jinja2>=2.9 in /Users/bcordola20/anaconda3/lib/python3.11/site-packages (from folium->-r requirements.txt (line 5)) (3.1.2)\n",
      "Requirement already satisfied: contourpy>=1.0.1 in /Users/bcordola20/anaconda3/lib/python3.11/site-packages (from matplotlib->-r requirements.txt (line 6)) (1.0.5)\n",
      "Requirement already satisfied: cycler>=0.10 in /Users/bcordola20/anaconda3/lib/python3.11/site-packages (from matplotlib->-r requirements.txt (line 6)) (0.11.0)\n",
      "Requirement already satisfied: fonttools>=4.22.0 in /Users/bcordola20/anaconda3/lib/python3.11/site-packages (from matplotlib->-r requirements.txt (line 6)) (4.25.0)\n",
      "Requirement already satisfied: kiwisolver>=1.0.1 in /Users/bcordola20/anaconda3/lib/python3.11/site-packages (from matplotlib->-r requirements.txt (line 6)) (1.4.4)\n",
      "Requirement already satisfied: pillow>=6.2.0 in /Users/bcordola20/anaconda3/lib/python3.11/site-packages (from matplotlib->-r requirements.txt (line 6)) (9.4.0)\n",
      "Requirement already satisfied: pyparsing<3.1,>=2.3.1 in /Users/bcordola20/anaconda3/lib/python3.11/site-packages (from matplotlib->-r requirements.txt (line 6)) (3.0.9)\n",
      "Requirement already satisfied: networkx>=2.7 in /Users/bcordola20/anaconda3/lib/python3.11/site-packages (from mapclassify->-r requirements.txt (line 7)) (3.1)\n",
      "Requirement already satisfied: scikit-learn>=1.0 in /Users/bcordola20/anaconda3/lib/python3.11/site-packages (from mapclassify->-r requirements.txt (line 7)) (1.3.0)\n",
      "Requirement already satisfied: pooch in /Users/bcordola20/anaconda3/lib/python3.11/site-packages (from geodatasets->-r requirements.txt (line 8)) (1.7.0)\n",
      "Requirement already satisfied: seaborn in /Users/bcordola20/anaconda3/lib/python3.11/site-packages (from geoplot->-r requirements.txt (line 9)) (0.12.2)\n",
      "Requirement already satisfied: cartopy in /Users/bcordola20/anaconda3/lib/python3.11/site-packages (from geoplot->-r requirements.txt (line 9)) (0.22.0)\n",
      "Requirement already satisfied: contextily>=1.0.0 in /Users/bcordola20/anaconda3/lib/python3.11/site-packages (from geoplot->-r requirements.txt (line 9)) (1.4.0)\n",
      "Requirement already satisfied: soupsieve>1.2 in /Users/bcordola20/anaconda3/lib/python3.11/site-packages (from beautifulsoup4>=4.10->libpysal->-r requirements.txt (line 4)) (2.4)\n",
      "Requirement already satisfied: geopy in /Users/bcordola20/anaconda3/lib/python3.11/site-packages (from contextily>=1.0.0->geoplot->-r requirements.txt (line 9)) (2.4.0)\n",
      "Requirement already satisfied: mercantile in /Users/bcordola20/anaconda3/lib/python3.11/site-packages (from contextily>=1.0.0->geoplot->-r requirements.txt (line 9)) (1.2.1)\n",
      "Requirement already satisfied: rasterio in /Users/bcordola20/anaconda3/lib/python3.11/site-packages (from contextily>=1.0.0->geoplot->-r requirements.txt (line 9)) (1.3.9)\n",
      "Requirement already satisfied: joblib in /Users/bcordola20/anaconda3/lib/python3.11/site-packages (from contextily>=1.0.0->geoplot->-r requirements.txt (line 9)) (1.2.0)\n",
      "Requirement already satisfied: xyzservices in /Users/bcordola20/anaconda3/lib/python3.11/site-packages (from contextily>=1.0.0->geoplot->-r requirements.txt (line 9)) (2022.9.0)\n",
      "Requirement already satisfied: attrs>=19.2.0 in /Users/bcordola20/anaconda3/lib/python3.11/site-packages (from fiona>=1.8.21->geopandas->-r requirements.txt (line 2)) (22.1.0)\n",
      "Requirement already satisfied: certifi in /Users/bcordola20/anaconda3/lib/python3.11/site-packages (from fiona>=1.8.21->geopandas->-r requirements.txt (line 2)) (2023.7.22)\n",
      "Requirement already satisfied: click~=8.0 in /Users/bcordola20/anaconda3/lib/python3.11/site-packages (from fiona>=1.8.21->geopandas->-r requirements.txt (line 2)) (8.0.4)\n",
      "Requirement already satisfied: click-plugins>=1.0 in /Users/bcordola20/anaconda3/lib/python3.11/site-packages (from fiona>=1.8.21->geopandas->-r requirements.txt (line 2)) (1.1.1)\n",
      "Requirement already satisfied: cligj>=0.5 in /Users/bcordola20/anaconda3/lib/python3.11/site-packages (from fiona>=1.8.21->geopandas->-r requirements.txt (line 2)) (0.7.2)\n",
      "Requirement already satisfied: six in /Users/bcordola20/anaconda3/lib/python3.11/site-packages (from fiona>=1.8.21->geopandas->-r requirements.txt (line 2)) (1.16.0)\n",
      "Requirement already satisfied: setuptools in /Users/bcordola20/anaconda3/lib/python3.11/site-packages (from fiona>=1.8.21->geopandas->-r requirements.txt (line 2)) (68.0.0)\n",
      "Requirement already satisfied: MarkupSafe>=2.0 in /Users/bcordola20/anaconda3/lib/python3.11/site-packages (from jinja2>=2.9->folium->-r requirements.txt (line 5)) (2.1.1)\n",
      "Requirement already satisfied: threadpoolctl>=2.0.0 in /Users/bcordola20/anaconda3/lib/python3.11/site-packages (from scikit-learn>=1.0->mapclassify->-r requirements.txt (line 7)) (2.2.0)\n",
      "Requirement already satisfied: pyshp>=2.1 in /Users/bcordola20/anaconda3/lib/python3.11/site-packages (from cartopy->geoplot->-r requirements.txt (line 9)) (2.3.1)\n",
      "Requirement already satisfied: charset-normalizer<4,>=2 in /Users/bcordola20/anaconda3/lib/python3.11/site-packages (from requests->libpysal->-r requirements.txt (line 4)) (2.0.4)\n",
      "Requirement already satisfied: idna<4,>=2.5 in /Users/bcordola20/anaconda3/lib/python3.11/site-packages (from requests->libpysal->-r requirements.txt (line 4)) (3.4)\n",
      "Requirement already satisfied: urllib3<3,>=1.21.1 in /Users/bcordola20/anaconda3/lib/python3.11/site-packages (from requests->libpysal->-r requirements.txt (line 4)) (1.26.16)\n",
      "Requirement already satisfied: geographiclib<3,>=1.52 in /Users/bcordola20/anaconda3/lib/python3.11/site-packages (from geopy->contextily>=1.0.0->geoplot->-r requirements.txt (line 9)) (2.0)\n",
      "Requirement already satisfied: affine in /Users/bcordola20/anaconda3/lib/python3.11/site-packages (from rasterio->contextily>=1.0.0->geoplot->-r requirements.txt (line 9)) (2.4.0)\n",
      "Requirement already satisfied: snuggs>=1.4.1 in /Users/bcordola20/anaconda3/lib/python3.11/site-packages (from rasterio->contextily>=1.0.0->geoplot->-r requirements.txt (line 9)) (1.4.7)\n"
     ]
    }
   ],
   "source": [
    "!pip install -r requirements.txt"
   ]
  },
  {
   "cell_type": "code",
   "execution_count": null,
   "id": "e25eba6d-e342-4d9c-8581-254233bb7117",
   "metadata": {},
   "outputs": [],
   "source": []
  }
 ],
 "metadata": {
  "kernelspec": {
   "display_name": "Python 3 (ipykernel)",
   "language": "python",
   "name": "python3"
  },
  "language_info": {
   "codemirror_mode": {
    "name": "ipython",
    "version": 3
   },
   "file_extension": ".py",
   "mimetype": "text/x-python",
   "name": "python",
   "nbconvert_exporter": "python",
   "pygments_lexer": "ipython3",
   "version": "3.11.5"
  }
 },
 "nbformat": 4,
 "nbformat_minor": 5
}
